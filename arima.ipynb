{
  "nbformat": 4,
  "nbformat_minor": 0,
  "metadata": {
    "colab": {
      "provenance": []
    },
    "kernelspec": {
      "name": "python3",
      "display_name": "Python 3"
    },
    "language_info": {
      "name": "python"
    }
  },
  "cells": [
    {
      "cell_type": "code",
      "execution_count": null,
      "metadata": {
        "id": "7GSdsGpyABjZ"
      },
      "outputs": [],
      "source": [
        "import streamlit as st\n",
        "import pandas as pd\n",
        "from statsmodels.tsa.arima.model import ARIMA\n",
        "\n",
        "# Read CSV file\n",
        "df = pd.read_csv(\"D:/Forecasting_project/Gold_data.csv\",parse_dates=['date'], index_col='date')\n",
        "\n",
        "# Set up Streamlit app\n",
        "st.title('GOLD price Prediction')\n",
        "\n",
        "# Get user input for number of days to predict\n",
        "n_days = st.number_input('Number of days to predict:', value=7)\n",
        "\n",
        "# Fit ARIMA model\n",
        "model = ARIMA(df, order=(5,1,5))\n",
        "model_fit = model.fit()\n",
        "\n",
        "# Predict next n days\n",
        "forecast = model_fit.forecast(steps=n_days)\n",
        "\n",
        "# Generate dates for the forecasted period\n",
        "last_date = df.index[-1]\n",
        "forecast_dates = pd.date_range(start=last_date + pd.DateOffset(days=1), periods=n_days)\n",
        "\n",
        "# Display the predicted values\n",
        "st.subheader('Predicted Values:')\n",
        "predicted_df = pd.DataFrame({ 'Prediction': forecast})\n",
        "st.dataframe(predicted_df)\n"
      ]
    }
  ]
}